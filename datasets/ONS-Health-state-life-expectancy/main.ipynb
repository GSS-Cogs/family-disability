{
 "cells": [
  {
   "cell_type": "code",
   "execution_count": 1,
   "metadata": {},
   "outputs": [
    {
     "name": "stdout",
     "output_type": "stream",
     "text": [
      "Execution Environment: ZMQInteractiveShell; setting boo_pythonNB_environment to: True\n"
     ]
    }
   ],
   "source": [
    "if get_ipython().__class__.__name__ == 'ZMQInteractiveShell':\n",
    "    boo_pythonNB_environment = True\n",
    "else:\n",
    "    boo_pythonNB_environment = False\n",
    "\n",
    "print('Execution Environment: ' + get_ipython().__class__.__name__ + '; setting boo_pythonNB_environment to: ' \\\n",
    "      + str(boo_pythonNB_environment))"
   ]
  },
  {
   "cell_type": "code",
   "execution_count": 2,
   "metadata": {},
   "outputs": [
    {
     "data": {
      "text/markdown": [
       "## Health state life expectancy - all ages, UK\n",
       "\n",
       "Pivot tables for health state life expectancy by sex and area type, divided by two-year intervals starting from 2009 to 2011.\n",
       "\n",
       "### Description\n",
       "\n",
       "Pivot tables for health state life expectancy by sex and area type, divided by two-year intervals starting from 2009 to 2011.\n",
       "\n",
       "### Distributions\n",
       "\n",
       "1. Health state life expectancy - all ages, UK ([MS Excel Spreadsheet](https://www.ons.gov.uk/file?uri=/peoplepopulationandcommunity/healthandsocialcare/healthandlifeexpectancies/datasets/healthstatelifeexpectancyallagesuk/current/hslepivotab1.xlsx)) - 2016-11-29\n",
       "1. Health state life expectancy - all ages, UK ([application/zip](https://www.ons.gov.uk/file?uri=/peoplepopulationandcommunity/healthandsocialcare/healthandlifeexpectancies/datasets/healthstatelifeexpectancyallagesuk/current/previous/v1/healthexpectanciespivottables.zip)) - 2016-11-29\n",
       "1. Health state life expectancy - all ages, UK ([application/zip](https://www.ons.gov.uk/file?uri=/peoplepopulationandcommunity/healthandsocialcare/healthandlifeexpectancies/datasets/healthstatelifeexpectancyallagesuk/current/previous/v2/healthexpectanciespivottablesversion2.zip)) - 2016-11-29\n",
       "1. Health state life expectancy - all ages, UK ([MS Excel Spreadsheet](https://www.ons.gov.uk/file?uri=/peoplepopulationandcommunity/healthandsocialcare/healthandlifeexpectancies/datasets/healthstatelifeexpectancyallagesuk/current/previous/v3/refpivottablesfinal.xlsx)) - 2016-11-29\n"
      ],
      "text/plain": [
       "<gssutils.scrape.Scraper at 0x110b0f908>"
      ]
     },
     "execution_count": 2,
     "metadata": {},
     "output_type": "execute_result"
    }
   ],
   "source": [
    "from gssutils import *\n",
    "\n",
    "#if boo_pythonNB_environment == False:\n",
    "scraper = Scraper('https://www.ons.gov.uk/peoplepopulationandcommunity/healthandsocialcare/' \\\n",
    "                  'healthandlifeexpectancies/datasets/healthstatelifeexpectancyallagesuk')\n",
    "scraper\n",
    "\n",
    "#else:\n",
    "#    tabs = loadxlstabs('/Users/martyn/Downloads/hslepivotab1.xlsx') # Not significantly quicker with local read.\n",
    "# Download not the bottle-neck of the 50Mb file - read to memory is what is taking the time.    \n"
   ]
  },
  {
   "cell_type": "code",
   "execution_count": 3,
   "metadata": {},
   "outputs": [
    {
     "data": {
      "text/html": [
       "<h3>Distribution</h3>\n",
       "<dl><dt>dct:title</dt><dd>&quot;Health state life expectancy - all ages, UK&quot;@en</dd>\n",
       "<dt>dct:description</dt><dd>&quot;Pivot tables for health state life expectancy by sex and area type, divided by two-year intervals starting from 2009 to 2011.&quot;@en</dd>\n",
       "<dt>dct:issued</dt><dd>&quot;2016-11-29&quot;^^&lt;http://www.w3.org/2001/XMLSchema#date&gt;</dd>\n",
       "<dt>dcat:downloadURL</dt><dd><a href=https://www.ons.gov.uk/file?uri=/peoplepopulationandcommunity/healthandsocialcare/healthandlifeexpectancies/datasets/healthstatelifeexpectancyallagesuk/current/hslepivotab1.xlsx>&lt;https://www.ons.gov.uk/file?uri=/peoplepopulationandcommunity/healthandsocialcare/healthandlifeexpectancies/datasets/healthstatelifeexpectancyallagesuk/current/hslepivotab1.xlsx&gt;</a></dd>\n",
       "<dt>dcat:mediaType</dt><dd>&quot;application/vnd.ms-excel&quot;</dd>\n",
       "</dl>"
      ],
      "text/plain": [
       "<gssutils.metadata.Distribution at 0x121a27e80>"
      ]
     },
     "metadata": {},
     "output_type": "display_data"
    }
   ],
   "source": [
    "tabs = scraper.distributions[0].as_databaker()\n",
    "distribution = scraper.distributions[0]\n",
    "display(distribution)"
   ]
  },
  {
   "cell_type": "markdown",
   "metadata": {},
   "source": [
    "Spreadsheet is 50Mb - note to developers - should we cut down the spreadsheet by deleting hidden columns etc. before processing? Each TAB is also calculated from pivot(s); the RAW data being hidden."
   ]
  },
  {
   "cell_type": "code",
   "execution_count": 4,
   "metadata": {},
   "outputs": [
    {
     "name": "stdout",
     "output_type": "stream",
     "text": [
      "H\n"
     ]
    }
   ],
   "source": [
    "str_tabsheetsinfocus = 'H'\n",
    "if boo_pythonNB_environment == True:\n",
    "    print(str_tabsheetsinfocus)"
   ]
  },
  {
   "cell_type": "code",
   "execution_count": 82,
   "metadata": {},
   "outputs": [
    {
     "name": "stdout",
     "output_type": "stream",
     "text": [
      " Scanning: HE - Country level estimates\n",
      "Processed: HE - Country level estimates\n",
      " Scanning: HE - Region level estimates\n",
      "Processed: HE - Region level estimates\n",
      " Scanning: HE - MC,CA,WHB Estimates\n",
      "Processed: HE - MC,CA,WHB Estimates\n",
      " Scanning: HE  - Local area estimates\n",
      "Processed: HE  - Local area estimates\n"
     ]
    }
   ],
   "source": [
    "i = 0\n",
    "pd_df_name = []\n",
    "pd_df_cleaned = []\n",
    "\n",
    "for tab in tabs:\n",
    "    if tabs[i].name.startswith(str_tabsheetsinfocus):\n",
    "        \n",
    "        print(' Scanning: ' + tabs[i].name)\n",
    "\n",
    "        if tabs[i].name == 'HE - Country level estimates':\n",
    "            try:\n",
    "                pd_df_name.append(tabs[i].name)\n",
    "                pd_tab = distribution.as_pandas(sheet_name = tabs[i].name) #, skiprows=1, header=None)\n",
    "                pd_df_dimensions = pd_tab.iloc[:, :7]\n",
    "                pd_df_observations = pd_tab.iloc[:, 7:18]\n",
    "                pd_df_original = pd.concat([pd_df_dimensions, pd_df_observations], axis=1, sort=False)\n",
    "                pd_df_cleaned.append(pd_df_original.dropna(how='all'))\n",
    "                print('Processed: ' + tabs[i].name)\n",
    "                #break\n",
    "            except ERR_HECountryLevelEstimates:\n",
    "                print('Error within ' + str(pd_df_name.append(tabs[i].name)) + ' process to extract to Pandas DF.')\n",
    "            \n",
    "        if tabs[i].name == 'HE - Region level estimates':\n",
    "            try:\n",
    "                pd_df_name.append(tabs[i].name)\n",
    "                pd_tab = distribution.as_pandas(sheet_name = tabs[i].name)\n",
    "                pd_df_dimensions = pd_tab.iloc[:, :8]\n",
    "                pd_df_observations = pd_tab.iloc[:, 8:19]\n",
    "                pd_df_original = pd.concat([pd_df_dimensions, pd_df_observations], axis=1, sort=False)\n",
    "                pd_df_cleaned.append(pd_df_original.dropna(how='all'))\n",
    "                print('Processed: ' + tabs[i].name)\n",
    "            except ERR_HERegionLevelEstimates:\n",
    "                print('Error within ' + str(pd_df_name.append(tabs[i].name)) + ' process to extract to Pandas DF.')\n",
    "\n",
    "                \n",
    "        if tabs[i].name == 'HE - MC,CA,WHB Estimates':\n",
    "            try:\n",
    "                pd_df_name.append(tabs[i].name)\n",
    "                pd_tab = distribution.as_pandas(sheet_name = tabs[i].name)\n",
    "                pd_df_dimensions = pd_tab.iloc[:, :7]\n",
    "                pd_df_observations = pd_tab.iloc[:, 7:18]\n",
    "                pd_df_original = pd.concat([pd_df_dimensions, pd_df_observations], axis=1, sort=False)\n",
    "                pd_df_cleaned.append(pd_df_original.dropna(how='all'))            \n",
    "                print('Processed: ' + tabs[i].name)\n",
    "            except ERR_HEMCMAWHBLevelEstimates:\n",
    "                print('Error within ' + str(pd_df_name.append(tabs[i].name)) + ' process to extract to Pandas DF.')\n",
    "\n",
    "            \n",
    "        if tabs[i].name == 'HE  - Local area estimates': #Notice additional spaces that may be removed in future...\n",
    "            try:\n",
    "                pd_df_name.append(tabs[i].name)\n",
    "                pd_tab = distribution.as_pandas(sheet_name = tabs[i].name)\n",
    "                pd_df_dimensions = pd_tab.iloc[:, :8]\n",
    "                pd_df_observations = pd_tab.iloc[:, 8:19]\n",
    "                pd_df_original = pd.concat([pd_df_dimensions, pd_df_observations], axis=1, sort=False)\n",
    "                pd_df_cleaned.append(pd_df_original.dropna(how='all'))\n",
    "                print('Processed: ' + tabs[i].name)\n",
    "            except ERR_HERegionLevelEstimates:\n",
    "                print('Error within ' + str(pd_df_name.append(tabs[i].name)) + ' process to extract to Pandas DF.')\n",
    "            \n",
    "            \n",
    "    i += 1"
   ]
  },
  {
   "cell_type": "code",
   "execution_count": 83,
   "metadata": {},
   "outputs": [],
   "source": [
    "#print(list(pd_df_dimensions.columns))\n",
    "#print(list(pd_df_observations.columns))"
   ]
  },
  {
   "cell_type": "code",
   "execution_count": null,
   "metadata": {},
   "outputs": [],
   "source": []
  },
  {
   "cell_type": "code",
   "execution_count": 94,
   "metadata": {},
   "outputs": [
    {
     "name": "stdout",
     "output_type": "stream",
     "text": [
      "HE - Country level estimates\n",
      "HE - Region level estimates\n",
      "HE - MC,CA,WHB Estimates\n",
      "HE  - Local area estimates\n"
     ]
    }
   ],
   "source": [
    "#This code is for testing purposes - not for final.\n",
    "for i in range(len(pd_df_name)):\n",
    "    print(pd_df_name[i])\n",
    "    \n",
    "#print(pd_df_name[0])\n",
    "#pd_df_cleaned[0].head(3)"
   ]
  },
  {
   "cell_type": "code",
   "execution_count": 95,
   "metadata": {},
   "outputs": [
    {
     "data": {
      "text/html": [
       "<div>\n",
       "<style scoped>\n",
       "    .dataframe tbody tr th:only-of-type {\n",
       "        vertical-align: middle;\n",
       "    }\n",
       "\n",
       "    .dataframe tbody tr th {\n",
       "        vertical-align: top;\n",
       "    }\n",
       "\n",
       "    .dataframe thead th {\n",
       "        text-align: right;\n",
       "    }\n",
       "</style>\n",
       "<table border=\"1\" class=\"dataframe\">\n",
       "  <thead>\n",
       "    <tr style=\"text-align: right;\">\n",
       "      <th></th>\n",
       "      <th>Period_x2</th>\n",
       "      <th>Code</th>\n",
       "      <th>Country</th>\n",
       "      <th>sex1</th>\n",
       "      <th>Gender</th>\n",
       "      <th>ageband</th>\n",
       "      <th>age group</th>\n",
       "      <th>Life Expectancy (LE)_</th>\n",
       "      <th>LE Lower CI_</th>\n",
       "      <th>LE Upper CI_</th>\n",
       "      <th>Healthy Life Expectancy (HLE) _</th>\n",
       "      <th>HLE Lower CI_</th>\n",
       "      <th>HLE Upper CI_</th>\n",
       "      <th>Proportion of Life Spent in \"Good\" Health (%)_</th>\n",
       "      <th>Disability Free Life Expectancy (DFLE)_</th>\n",
       "      <th>DFLE Lower CI_</th>\n",
       "      <th>DFLE Upper CI_</th>\n",
       "      <th>Proportion of Life Spent Disability Free (%)_</th>\n",
       "    </tr>\n",
       "  </thead>\n",
       "  <tbody>\n",
       "    <tr>\n",
       "      <th>0</th>\n",
       "      <td>2009-11</td>\n",
       "      <td>E92000001</td>\n",
       "      <td>England</td>\n",
       "      <td>1.0</td>\n",
       "      <td>Male</td>\n",
       "      <td>1.0</td>\n",
       "      <td>&lt;1</td>\n",
       "      <td>78.78073</td>\n",
       "      <td>78.75026</td>\n",
       "      <td>78.81120</td>\n",
       "      <td>63.02647</td>\n",
       "      <td>62.87787</td>\n",
       "      <td>63.17508</td>\n",
       "      <td>80.00240</td>\n",
       "      <td>63.49672</td>\n",
       "      <td>63.35193</td>\n",
       "      <td>63.64150</td>\n",
       "      <td>80.59930</td>\n",
       "    </tr>\n",
       "    <tr>\n",
       "      <th>1</th>\n",
       "      <td>2009-11</td>\n",
       "      <td>E92000001</td>\n",
       "      <td>England</td>\n",
       "      <td>1.0</td>\n",
       "      <td>Male</td>\n",
       "      <td>2.0</td>\n",
       "      <td>01-04</td>\n",
       "      <td>78.17075</td>\n",
       "      <td>78.14207</td>\n",
       "      <td>78.19942</td>\n",
       "      <td>62.37935</td>\n",
       "      <td>62.23008</td>\n",
       "      <td>62.52862</td>\n",
       "      <td>79.79884</td>\n",
       "      <td>62.85968</td>\n",
       "      <td>62.71425</td>\n",
       "      <td>63.00510</td>\n",
       "      <td>80.41330</td>\n",
       "    </tr>\n",
       "    <tr>\n",
       "      <th>2</th>\n",
       "      <td>2009-11</td>\n",
       "      <td>E92000001</td>\n",
       "      <td>England</td>\n",
       "      <td>1.0</td>\n",
       "      <td>Male</td>\n",
       "      <td>3.0</td>\n",
       "      <td>05-09</td>\n",
       "      <td>74.22782</td>\n",
       "      <td>74.19942</td>\n",
       "      <td>74.25623</td>\n",
       "      <td>58.59795</td>\n",
       "      <td>58.44976</td>\n",
       "      <td>58.74614</td>\n",
       "      <td>78.94338</td>\n",
       "      <td>59.10273</td>\n",
       "      <td>58.95841</td>\n",
       "      <td>59.24704</td>\n",
       "      <td>79.62342</td>\n",
       "    </tr>\n",
       "  </tbody>\n",
       "</table>\n",
       "</div>"
      ],
      "text/plain": [
       "  Period_x2       Code  Country  sex1 Gender  ageband age group  \\\n",
       "0   2009-11  E92000001  England   1.0   Male      1.0        <1   \n",
       "1   2009-11  E92000001  England   1.0   Male      2.0     01-04   \n",
       "2   2009-11  E92000001  England   1.0   Male      3.0     05-09   \n",
       "\n",
       "   Life Expectancy (LE)_  LE Lower CI_  LE Upper CI_  \\\n",
       "0               78.78073      78.75026      78.81120   \n",
       "1               78.17075      78.14207      78.19942   \n",
       "2               74.22782      74.19942      74.25623   \n",
       "\n",
       "   Healthy Life Expectancy (HLE) _  HLE Lower CI_  HLE Upper CI_  \\\n",
       "0                         63.02647       62.87787       63.17508   \n",
       "1                         62.37935       62.23008       62.52862   \n",
       "2                         58.59795       58.44976       58.74614   \n",
       "\n",
       "   Proportion of Life Spent in \"Good\" Health (%)_  \\\n",
       "0                                        80.00240   \n",
       "1                                        79.79884   \n",
       "2                                        78.94338   \n",
       "\n",
       "   Disability Free Life Expectancy (DFLE)_  DFLE Lower CI_  DFLE Upper CI_  \\\n",
       "0                                 63.49672        63.35193        63.64150   \n",
       "1                                 62.85968        62.71425        63.00510   \n",
       "2                                 59.10273        58.95841        59.24704   \n",
       "\n",
       "   Proportion of Life Spent Disability Free (%)_  \n",
       "0                                       80.59930  \n",
       "1                                       80.41330  \n",
       "2                                       79.62342  "
      ]
     },
     "execution_count": 95,
     "metadata": {},
     "output_type": "execute_result"
    }
   ],
   "source": [
    "#This code is for testing purposes - not for final.\n",
    "pd_df_cleaned[0].head(3)"
   ]
  },
  {
   "cell_type": "code",
   "execution_count": 96,
   "metadata": {},
   "outputs": [],
   "source": [
    "#This code is for testing purposes - not for final.\n",
    "#Code may be used where renaming is required...\n",
    "col_dict = {\n",
    "    'Sex': 'Gender',\n",
    "    'Period': 'Period_x2'\n",
    "}\n",
    "\n",
    "for i in range(len(pd_df_cleaned)):\n",
    "    #pd_df_cleaned[i].rename(columns={'Sex': 'Gender', 'Period': '2Yearsomethingorother'}, inplace=True)\n",
    "    # Painfully slow using .rename function...\n",
    "    pd_df_cleaned[i].columns = [col_dict.get(x, x) for x in pd_df_cleaned[i].columns]\n"
   ]
  },
  {
   "cell_type": "code",
   "execution_count": 97,
   "metadata": {},
   "outputs": [
    {
     "data": {
      "text/html": [
       "<div>\n",
       "<style scoped>\n",
       "    .dataframe tbody tr th:only-of-type {\n",
       "        vertical-align: middle;\n",
       "    }\n",
       "\n",
       "    .dataframe tbody tr th {\n",
       "        vertical-align: top;\n",
       "    }\n",
       "\n",
       "    .dataframe thead th {\n",
       "        text-align: right;\n",
       "    }\n",
       "</style>\n",
       "<table border=\"1\" class=\"dataframe\">\n",
       "  <thead>\n",
       "    <tr style=\"text-align: right;\">\n",
       "      <th></th>\n",
       "      <th>Period_x2</th>\n",
       "      <th>Code</th>\n",
       "      <th>Country</th>\n",
       "      <th>sex1</th>\n",
       "      <th>Gender</th>\n",
       "      <th>ageband</th>\n",
       "      <th>age group</th>\n",
       "      <th>Life Expectancy (LE)_</th>\n",
       "      <th>LE Lower CI_</th>\n",
       "      <th>LE Upper CI_</th>\n",
       "      <th>Healthy Life Expectancy (HLE) _</th>\n",
       "      <th>HLE Lower CI_</th>\n",
       "      <th>HLE Upper CI_</th>\n",
       "      <th>Proportion of Life Spent in \"Good\" Health (%)_</th>\n",
       "      <th>Disability Free Life Expectancy (DFLE)_</th>\n",
       "      <th>DFLE Lower CI_</th>\n",
       "      <th>DFLE Upper CI_</th>\n",
       "      <th>Proportion of Life Spent Disability Free (%)_</th>\n",
       "    </tr>\n",
       "  </thead>\n",
       "  <tbody>\n",
       "    <tr>\n",
       "      <th>0</th>\n",
       "      <td>2009-11</td>\n",
       "      <td>E92000001</td>\n",
       "      <td>England</td>\n",
       "      <td>1.0</td>\n",
       "      <td>Male</td>\n",
       "      <td>1.0</td>\n",
       "      <td>&lt;1</td>\n",
       "      <td>78.78073</td>\n",
       "      <td>78.75026</td>\n",
       "      <td>78.81120</td>\n",
       "      <td>63.02647</td>\n",
       "      <td>62.87787</td>\n",
       "      <td>63.17508</td>\n",
       "      <td>80.00240</td>\n",
       "      <td>63.49672</td>\n",
       "      <td>63.35193</td>\n",
       "      <td>63.64150</td>\n",
       "      <td>80.59930</td>\n",
       "    </tr>\n",
       "    <tr>\n",
       "      <th>1</th>\n",
       "      <td>2009-11</td>\n",
       "      <td>E92000001</td>\n",
       "      <td>England</td>\n",
       "      <td>1.0</td>\n",
       "      <td>Male</td>\n",
       "      <td>2.0</td>\n",
       "      <td>01-04</td>\n",
       "      <td>78.17075</td>\n",
       "      <td>78.14207</td>\n",
       "      <td>78.19942</td>\n",
       "      <td>62.37935</td>\n",
       "      <td>62.23008</td>\n",
       "      <td>62.52862</td>\n",
       "      <td>79.79884</td>\n",
       "      <td>62.85968</td>\n",
       "      <td>62.71425</td>\n",
       "      <td>63.00510</td>\n",
       "      <td>80.41330</td>\n",
       "    </tr>\n",
       "    <tr>\n",
       "      <th>2</th>\n",
       "      <td>2009-11</td>\n",
       "      <td>E92000001</td>\n",
       "      <td>England</td>\n",
       "      <td>1.0</td>\n",
       "      <td>Male</td>\n",
       "      <td>3.0</td>\n",
       "      <td>05-09</td>\n",
       "      <td>74.22782</td>\n",
       "      <td>74.19942</td>\n",
       "      <td>74.25623</td>\n",
       "      <td>58.59795</td>\n",
       "      <td>58.44976</td>\n",
       "      <td>58.74614</td>\n",
       "      <td>78.94338</td>\n",
       "      <td>59.10273</td>\n",
       "      <td>58.95841</td>\n",
       "      <td>59.24704</td>\n",
       "      <td>79.62342</td>\n",
       "    </tr>\n",
       "  </tbody>\n",
       "</table>\n",
       "</div>"
      ],
      "text/plain": [
       "  Period_x2       Code  Country  sex1 Gender  ageband age group  \\\n",
       "0   2009-11  E92000001  England   1.0   Male      1.0        <1   \n",
       "1   2009-11  E92000001  England   1.0   Male      2.0     01-04   \n",
       "2   2009-11  E92000001  England   1.0   Male      3.0     05-09   \n",
       "\n",
       "   Life Expectancy (LE)_  LE Lower CI_  LE Upper CI_  \\\n",
       "0               78.78073      78.75026      78.81120   \n",
       "1               78.17075      78.14207      78.19942   \n",
       "2               74.22782      74.19942      74.25623   \n",
       "\n",
       "   Healthy Life Expectancy (HLE) _  HLE Lower CI_  HLE Upper CI_  \\\n",
       "0                         63.02647       62.87787       63.17508   \n",
       "1                         62.37935       62.23008       62.52862   \n",
       "2                         58.59795       58.44976       58.74614   \n",
       "\n",
       "   Proportion of Life Spent in \"Good\" Health (%)_  \\\n",
       "0                                        80.00240   \n",
       "1                                        79.79884   \n",
       "2                                        78.94338   \n",
       "\n",
       "   Disability Free Life Expectancy (DFLE)_  DFLE Lower CI_  DFLE Upper CI_  \\\n",
       "0                                 63.49672        63.35193        63.64150   \n",
       "1                                 62.85968        62.71425        63.00510   \n",
       "2                                 59.10273        58.95841        59.24704   \n",
       "\n",
       "   Proportion of Life Spent Disability Free (%)_  \n",
       "0                                       80.59930  \n",
       "1                                       80.41330  \n",
       "2                                       79.62342  "
      ]
     },
     "execution_count": 97,
     "metadata": {},
     "output_type": "execute_result"
    }
   ],
   "source": [
    "#This code is for testing purposes - not for final.\n",
    "pd_df_cleaned[0].head(3)"
   ]
  },
  {
   "cell_type": "code",
   "execution_count": null,
   "metadata": {},
   "outputs": [],
   "source": [
    "#col_dict = {'gdp': 'log(gdp)', 'cap': 'cap_mod'}   ## key→old name, value→new name\n",
    "#df.columns = [col_dict.get(x, x) for x in df.columns]"
   ]
  },
  {
   "cell_type": "code",
   "execution_count": null,
   "metadata": {},
   "outputs": [],
   "source": []
  },
  {
   "cell_type": "code",
   "execution_count": 98,
   "metadata": {},
   "outputs": [
    {
     "data": {
      "text/plain": [
       "'Period_x2,Code,Country,sex1,Gender,ageband,age group,Life Expectancy (LE)_,LE Lower CI_,LE Upper CI_,Healthy Life Expectancy (HLE) _,HLE Lower CI_,HLE Upper CI_,\"Proportion of Life Spent in \"\"Good\"\" Health (%)_\",Disability Free Life Expectancy (DFLE)_,DFLE Lower CI_,DFLE Upper CI_,Proportion of Life Spent Disability Free (%)_\\n2009-11,E92000001,England,1.0,Male,1.0,<1,78.78073,78.75026,78.8112,63.02647,62.87787,63.17508,80.0024,63.49672,63.35193,63.6415,80.5993\\n2009-11,E92000001,England,1.0,Male,2.0,01-04,78.17075,78.14207,78.19942,62.37935,62.23008,62.52862,79.79884,62.85968,62.71425,63.0051,80.4133\\n2009-11,E92000001,England,1.0,Male,3.0,05-09,74.22782,74.19942,74.25623,58.59795,58.44976,58.74614,78.94338,59.10273,58.95841,59.24704,79.62342\\n'"
      ]
     },
     "execution_count": 98,
     "metadata": {},
     "output_type": "execute_result"
    }
   ],
   "source": [
    "#This code is for testing purposes - not for final.\n",
    "#Will need a basic loop through of partitions in final code...\n",
    "pd_df_cleaned[0].head(3).to_csv(index=False)"
   ]
  },
  {
   "cell_type": "code",
   "execution_count": null,
   "metadata": {},
   "outputs": [],
   "source": []
  },
  {
   "cell_type": "code",
   "execution_count": null,
   "metadata": {},
   "outputs": [],
   "source": []
  },
  {
   "cell_type": "code",
   "execution_count": null,
   "metadata": {},
   "outputs": [],
   "source": []
  },
  {
   "cell_type": "code",
   "execution_count": null,
   "metadata": {},
   "outputs": [],
   "source": []
  },
  {
   "cell_type": "code",
   "execution_count": null,
   "metadata": {},
   "outputs": [],
   "source": []
  },
  {
   "cell_type": "code",
   "execution_count": null,
   "metadata": {},
   "outputs": [],
   "source": []
  }
 ],
 "metadata": {
  "kernelspec": {
   "display_name": "Python 3",
   "language": "python",
   "name": "python3"
  },
  "language_info": {
   "codemirror_mode": {
    "name": "ipython",
    "version": 3
   },
   "file_extension": ".py",
   "mimetype": "text/x-python",
   "name": "python",
   "nbconvert_exporter": "python",
   "pygments_lexer": "ipython3",
   "version": "3.7.3"
  }
 },
 "nbformat": 4,
 "nbformat_minor": 2
}
