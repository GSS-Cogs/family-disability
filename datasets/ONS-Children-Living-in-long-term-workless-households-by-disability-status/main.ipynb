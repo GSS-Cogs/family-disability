{
 "cells": [
  {
   "cell_type": "markdown",
   "metadata": {},
   "source": [
    "ONS - Children living in long-term workless households, by disability status (Table H)"
   ]
  },
  {
   "cell_type": "code",
   "execution_count": null,
   "metadata": {},
   "outputs": [],
   "source": [
    "from gssutils import *\n",
    "import pandas as pd\n",
    "\n",
    "scraper = Scraper('https://www.ons.gov.uk/employmentandlabourmarket/peoplenotinwork/unemployment/datasets/hchildrenlivinginlongtermworklesshouseholdsandworklesshouseholdsbydisabilitystatus')"
   ]
  },
  {
   "cell_type": "code",
   "execution_count": null,
   "metadata": {},
   "outputs": [],
   "source": [
    "#One tab containing 5 tables: a - e.  tables a,c,e only required\n",
    "tabs = {tab.name: tab for tab in scraper.distribution(latest=True, mediaType=Excel).as_databaker()}\n",
    "tab = tabs['CILTWH H']"
   ]
  },
  {
   "cell_type": "code",
   "execution_count": null,
   "metadata": {},
   "outputs": [],
   "source": [
    "#TABLE A\n",
    "a_year = tab.excel_ref('A5').fill(DOWN).is_not_blank() - tab.excel_ref('A21').expand(DOWN).is_not_blank()\n",
    "a_workless_household_type = tab.excel_ref('B3').is_not_blank()\n",
    "a_household_disability_status = tab.excel_ref('B4').expand(RIGHT).is_not_blank() - tab.excel_ref('E4').expand(RIGHT).is_not_blank()\n",
    "a_observations = tab.excel_ref('B5').expand(RIGHT).expand(DOWN).is_not_blank() - tab.excel_ref('B21').expand(RIGHT).expand(DOWN).is_not_blank()\n",
    "a_exclude_totals = tab.excel_ref('E5').expand(DOWN).expand(RIGHT).is_not_blank() - tab.excel_ref('E21').expand(RIGHT).expand(DOWN).is_not_blank()\n",
    "a_observations = a_observations - a_exclude_totals\n",
    "\n",
    "Dimensions = [\n",
    "             HDim(a_year,'Year',DIRECTLY,LEFT),\n",
    "             HDim(a_household_disability_status,'Household disability status',DIRECTLY,ABOVE),\n",
    "             HDim(a_workless_household_type,'Workless Household Type',CLOSEST,ABOVE),\n",
    "             HDimConst('Measure Type', 'Thousands'), \n",
    "             HDimConst('Unit','People')\n",
    "             ]\n",
    "c1 = ConversionSegment(a_observations, Dimensions, processTIMEUNIT=True)\n",
    "tbl_a = c1.topandas()"
   ]
  },
  {
   "cell_type": "code",
   "execution_count": null,
   "metadata": {},
   "outputs": [],
   "source": [
    "#TABLE C\n",
    "c_year = tab.excel_ref('A45').fill(DOWN).is_not_blank() - tab.excel_ref('A61').expand(DOWN).is_not_blank()\n",
    "c_workless_household_type = tab.excel_ref('B43').is_not_blank()\n",
    "c_household_disability_status = tab.excel_ref('B44').expand(RIGHT).is_not_blank() - tab.excel_ref('E44').expand(RIGHT).is_not_blank()\n",
    "c_observations = tab.excel_ref('B45').expand(RIGHT).expand(DOWN).is_not_blank() - tab.excel_ref('B61').expand(RIGHT).expand(DOWN).is_not_blank()\n",
    "c_exclude_totals = tab.excel_ref('E45').expand(DOWN).expand(RIGHT).is_not_blank() - tab.excel_ref('E61').expand(RIGHT).expand(DOWN).is_not_blank()\n",
    "c_observations = c_observations - c_exclude_totals\n",
    "\n",
    "Dimensions = [\n",
    "             HDim(c_year,'Year',DIRECTLY,LEFT),\n",
    "             HDim(c_household_disability_status,'Household disability status',DIRECTLY,ABOVE),\n",
    "             HDim(c_workless_household_type,'Workless Household Type',CLOSEST,ABOVE),\n",
    "             HDimConst('Measure Type', 'Thousands'), \n",
    "             HDimConst('Unit','People')\n",
    "             ]\n",
    "c2 = ConversionSegment(c_observations, Dimensions, processTIMEUNIT=True)\n",
    "tbl_c = c2.topandas()"
   ]
  },
  {
   "cell_type": "code",
   "execution_count": null,
   "metadata": {},
   "outputs": [],
   "source": [
    "#TABLE e\n",
    "e_year = tab.excel_ref('A85').fill(DOWN).is_not_blank() - tab.excel_ref('A101').expand(DOWN).is_not_blank()\n",
    "e_workless_household_type = tab.excel_ref('B83').is_not_blank()\n",
    "e_household_disability_status = tab.excel_ref('B84').expand(RIGHT).is_not_blank() - tab.excel_ref('E84').expand(RIGHT).is_not_blank()\n",
    "e_observations = tab.excel_ref('B85').expand(RIGHT).expand(DOWN).is_not_blank() - tab.excel_ref('B101').expand(RIGHT).expand(DOWN).is_not_blank()\n",
    "e_exclude_totals = tab.excel_ref('E85').expand(DOWN).expand(RIGHT).is_not_blank() - tab.excel_ref('E101').expand(RIGHT).expand(DOWN).is_not_blank()\n",
    "e_observations = e_observations - e_exclude_totals\n",
    "\n",
    "Dimensions = [\n",
    "             HDim(e_year,'Year',DIRECTLY,LEFT),\n",
    "             HDim(e_household_disability_status,'Household disability status',DIRECTLY,ABOVE),\n",
    "             HDim(e_workless_household_type,'Workless Household Type',CLOSEST,ABOVE),\n",
    "             HDimConst('Measure Type', 'Thousands'), \n",
    "             HDimConst('Unit','People')\n",
    "             ]\n",
    "c3 = ConversionSegment(e_observations, Dimensions, processTIMEUNIT=True)\n",
    "tbl_e = c3.topandas()"
   ]
  },
  {
   "cell_type": "code",
   "execution_count": null,
   "metadata": {},
   "outputs": [],
   "source": [
    "#concatenate tables a,c,e\n",
    "new_table = pd.concat([tbl_a, tbl_c, tbl_e])"
   ]
  },
  {
   "cell_type": "code",
   "execution_count": null,
   "metadata": {},
   "outputs": [],
   "source": [
    "#tidy up\n",
    "new_table = new_table[~new_table['Year'].isin(['break in series'])]\n",
    "new_table['Year'] = new_table['Year'].str[:4]\n",
    "new_table['Year'] = new_table['Year'].apply(lambda x: pd.to_numeric(x, downcast='integer'))\n",
    "new_table['Workless Household Type'] = new_table['Workless Household Type'].str[:-1]\n",
    "new_table['OBS'] = new_table['OBS'].apply(lambda x: pd.to_numeric(x, downcast='integer'))\n",
    "new_table.rename(columns={'OBS': 'Count'}, inplace=True)\n",
    "#new_table"
   ]
  },
  {
   "cell_type": "code",
   "execution_count": null,
   "metadata": {},
   "outputs": [],
   "source": [
    "#Set up the folder path for the output files\n",
    "from pathlib import Path\n",
    "\n",
    "out = Path('out')\n",
    "out.mkdir(exist_ok=True, parents=True)"
   ]
  },
  {
   "cell_type": "code",
   "execution_count": null,
   "metadata": {},
   "outputs": [],
   "source": [
    "# Output the files\n",
    "new_table.drop_duplicates().to_csv(out / ('observations.csv'), index = False)"
   ]
  },
  {
   "cell_type": "code",
   "execution_count": null,
   "metadata": {},
   "outputs": [],
   "source": [
    "scraper.dataset.family = 'disability'\n",
    "\n",
    "with open(out / 'dataset.trig', 'wb') as metadata:\n",
    "    metadata.write(scraper.generate_trig())\n",
    "\n",
    "csvw = CSVWMetadata('https://gss-cogs.github.io/family-disability/reference/')\n",
    "csvw.create(out / 'observations.csv', out / 'observations.csv-schema.json')"
   ]
  }
 ],
 "metadata": {
  "kernelspec": {
   "display_name": "Python 3",
   "language": "python",
   "name": "python3"
  },
  "language_info": {
   "codemirror_mode": {
    "name": "ipython",
    "version": 3
   },
   "file_extension": ".py",
   "mimetype": "text/x-python",
   "name": "python",
   "nbconvert_exporter": "python",
   "pygments_lexer": "ipython3",
   "version": "3.7.4"
  }
 },
 "nbformat": 4,
 "nbformat_minor": 2
}
